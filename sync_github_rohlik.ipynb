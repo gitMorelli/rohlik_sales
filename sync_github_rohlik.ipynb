{
  "nbformat": 4,
  "nbformat_minor": 0,
  "metadata": {
    "colab": {
      "provenance": [],
      "authorship_tag": "ABX9TyMpD543Zjz+4/pA1OlZWLcS",
      "include_colab_link": true
    },
    "kernelspec": {
      "name": "python3",
      "display_name": "Python 3"
    },
    "language_info": {
      "name": "python"
    }
  },
  "cells": [
    {
      "cell_type": "markdown",
      "metadata": {
        "id": "view-in-github",
        "colab_type": "text"
      },
      "source": [
        "<a href=\"https://colab.research.google.com/github/gitMorelli/rohlik_sales/blob/main/sync_github_rohlik.ipynb\" target=\"_parent\"><img src=\"https://colab.research.google.com/assets/colab-badge.svg\" alt=\"Open In Colab\"/></a>"
      ]
    },
    {
      "cell_type": "code",
      "source": [
        "from google.colab import drive\n",
        "drive.mount('/content/drive')"
      ],
      "metadata": {
        "colab": {
          "base_uri": "https://localhost:8080/"
        },
        "id": "6RZECIFkorS5",
        "outputId": "a0d5742c-7a89-4299-8c33-05a4afc5c74f"
      },
      "execution_count": 5,
      "outputs": [
        {
          "output_type": "stream",
          "name": "stdout",
          "text": [
            "Mounted at /content/drive\n"
          ]
        }
      ]
    },
    {
      "cell_type": "code",
      "source": [
        "import os\n",
        "\n",
        "# Define your folder in Google Drive\n",
        "drive_folder = \"/content/drive/MyDrive/Colab Notebooks/rohlik sales competition\"\n",
        "\n",
        "# Change directory to the folder\n",
        "os.makedirs(drive_folder, exist_ok=True)\n",
        "%cd {drive_folder}"
      ],
      "metadata": {
        "colab": {
          "base_uri": "https://localhost:8080/"
        },
        "id": "QDWu1LLBoJZe",
        "outputId": "c5fe59a7-131c-4515-b7de-18ff645072fb"
      },
      "execution_count": 6,
      "outputs": [
        {
          "output_type": "stream",
          "name": "stdout",
          "text": [
            "/content/drive/MyDrive/Colab Notebooks/rohlik sales competition\n"
          ]
        }
      ]
    },
    {
      "cell_type": "code",
      "source": [
        "# Step 3: Initialize a Git repository (only if not already initialized)\n",
        "if not os.path.exists(f\"{drive_folder}/.git\"):\n",
        "    !git init\n",
        "    !git branch -m main  # Rename 'master' to 'main'\n",
        "\n",
        "# Step 4: Set GitHub repository as remote (only if not set)\n",
        "github_repo_url = \"https://github.com/gitMorelli/rohlik_sales.git\"  # Change this\n",
        "remote_check = !git remote -v\n",
        "if \"origin\" not in str(remote_check):\n",
        "    !git remote add origin {github_repo_url}\n",
        "\n",
        "# Step 5: Configure Git identity (Run once per Colab session)\n",
        "!git config --global user.email \"andrea.morels14@gmail.com\"  # Change this\n",
        "!git config --global user.name \"gitMorelli\"  # Change this\n",
        "\n",
        "# Step 6: Add and commit all Jupyter notebooks\n",
        "!git add *.ipynb  # Add only notebooks, or use !git add . to add everything\n",
        "!git commit -m \"Syncing all Colab notebooks from Drive\"\n",
        "\n",
        "# Step 7: Push to GitHub\n",
        "!git push -u origin main"
      ],
      "metadata": {
        "colab": {
          "base_uri": "https://localhost:8080/"
        },
        "id": "Z3fFlq2OpnpS",
        "outputId": "6035f374-3b13-482b-984a-e67d64764df5"
      },
      "execution_count": 7,
      "outputs": [
        {
          "output_type": "stream",
          "name": "stdout",
          "text": [
            "\u001b[33mhint: Using 'master' as the name for the initial branch. This default branch name\u001b[m\n",
            "\u001b[33mhint: is subject to change. To configure the initial branch name to use in all\u001b[m\n",
            "\u001b[33mhint: of your new repositories, which will suppress this warning, call:\u001b[m\n",
            "\u001b[33mhint: \u001b[m\n",
            "\u001b[33mhint: \tgit config --global init.defaultBranch <name>\u001b[m\n",
            "\u001b[33mhint: \u001b[m\n",
            "\u001b[33mhint: Names commonly chosen instead of 'master' are 'main', 'trunk' and\u001b[m\n",
            "\u001b[33mhint: 'development'. The just-created branch can be renamed via this command:\u001b[m\n",
            "\u001b[33mhint: \u001b[m\n",
            "\u001b[33mhint: \tgit branch -m <name>\u001b[m\n",
            "Initialized empty Git repository in /content/drive/MyDrive/Colab Notebooks/rohlik sales competition/.git/\n",
            "[main (root-commit) b8641c2] Syncing all Colab notebooks from Drive\n",
            " 2 files changed, 2 insertions(+)\n",
            " create mode 100644 data_analysis_rohlik.ipynb\n",
            " create mode 100644 sync_github_rohlik.ipynb\n",
            "fatal: could not read Username for 'https://github.com': No such device or address\n"
          ]
        }
      ]
    }
  ]
}